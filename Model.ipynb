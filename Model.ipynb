{
 "cells": [
  {
   "cell_type": "code",
   "execution_count": 2,
   "id": "7dd92241-8996-49d6-9f5a-48fb41977fae",
   "metadata": {},
   "outputs": [
    {
     "ename": "ModuleNotFoundError",
     "evalue": "No module named 'matplotlib'",
     "output_type": "error",
     "traceback": [
      "\u001b[31m---------------------------------------------------------------------------\u001b[39m",
      "\u001b[31mModuleNotFoundError\u001b[39m                       Traceback (most recent call last)",
      "\u001b[36mCell\u001b[39m\u001b[36m \u001b[39m\u001b[32mIn[2]\u001b[39m\u001b[32m, line 4\u001b[39m\n\u001b[32m      2\u001b[39m \u001b[38;5;28;01mimport\u001b[39;00m\u001b[38;5;250m \u001b[39m\u001b[34;01mnumpy\u001b[39;00m\u001b[38;5;250m \u001b[39m\u001b[38;5;28;01mas\u001b[39;00m\u001b[38;5;250m \u001b[39m\u001b[34;01mnp\u001b[39;00m\n\u001b[32m      3\u001b[39m \u001b[38;5;28;01mimport\u001b[39;00m\u001b[38;5;250m \u001b[39m\u001b[34;01mmath\u001b[39;00m\n\u001b[32m----> \u001b[39m\u001b[32m4\u001b[39m \u001b[38;5;28;01mfrom\u001b[39;00m\u001b[38;5;250m \u001b[39m\u001b[34;01mmatplotlib\u001b[39;00m\u001b[38;5;250m \u001b[39m\u001b[38;5;28;01mimport\u001b[39;00m pyplot \u001b[38;5;28;01mas\u001b[39;00m plt \n\u001b[32m      5\u001b[39m get_ipython().run_line_magic(\u001b[33m'\u001b[39m\u001b[33mmatplotlib\u001b[39m\u001b[33m'\u001b[39m, \u001b[33m'\u001b[39m\u001b[33minline\u001b[39m\u001b[33m'\u001b[39m)\n\u001b[32m      6\u001b[39m \u001b[38;5;28;01mimport\u001b[39;00m\u001b[38;5;250m \u001b[39m\u001b[34;01mmatplotlib\u001b[39;00m\n",
      "\u001b[31mModuleNotFoundError\u001b[39m: No module named 'matplotlib'"
     ]
    }
   ],
   "source": [
    "import pandas as pd\n",
    "import numpy as np\n",
    "import math\n",
    "from matplotlib import pyplot as plt \n",
    "%matplotlib inline\n",
    "import matplotlib\n",
    "matplotlib.rcParams[\"figure.figsize\"]= (20,10)"
   ]
  },
  {
   "cell_type": "code",
   "execution_count": null,
   "id": "d0e28207-3d91-4ac4-8b1d-8ff887dd4e02",
   "metadata": {},
   "outputs": [],
   "source": [
    "df = pd.read_csv(\"train.csv\")"
   ]
  },
  {
   "cell_type": "code",
   "execution_count": null,
   "id": "d85ef61d-1ea4-4ae5-a801-e4111ef141c7",
   "metadata": {},
   "outputs": [],
   "source": [
    "df = df[['bedroom','bathrooms','area','furnishing','avalable_for','rent']]"
   ]
  },
  {
   "cell_type": "code",
   "execution_count": null,
   "id": "a0221a14-419a-46d2-8075-86c8161ff4bf",
   "metadata": {},
   "outputs": [],
   "source": [
    "df.head()"
   ]
  },
  {
   "cell_type": "code",
   "execution_count": null,
   "id": "7c731d08-9e0c-487c-b105-754393cc99a4",
   "metadata": {},
   "outputs": [],
   "source": [
    "df = df.rename({\"bedroom\": \"bedrooms\"}, axis=1)\n",
    "df = df.rename({\"avalable_for\": \"available_for\"}, axis=1)\n",
    "df.size"
   ]
  },
  {
   "cell_type": "code",
   "execution_count": null,
   "id": "a74c0717-5050-4072-95ee-28f4a8315f14",
   "metadata": {},
   "outputs": [],
   "source": [
    "df = df.dropna()\n",
    "df.isnull().sum()"
   ]
  },
  {
   "cell_type": "code",
   "execution_count": null,
   "id": "ef74dbe9-186f-4ac9-8282-5f3b1e517e64",
   "metadata": {},
   "outputs": [],
   "source": [
    "median = df.area[df.area != 0].median()  # Calculate the median of non-zero values\n",
    "df.area = df.area.replace(0, median) "
   ]
  },
  {
   "cell_type": "code",
   "execution_count": null,
   "id": "4f65ca3b-b7ad-4e67-8bdf-0aeba5cc297e",
   "metadata": {},
   "outputs": [],
   "source": [
    "df = df[df['furnishing'] != 'Unfurnishe']"
   ]
  },
  {
   "cell_type": "code",
   "execution_count": null,
   "id": "26b4792b-f9e4-4222-85d4-796e3fd6ea61",
   "metadata": {},
   "outputs": [],
   "source": [
    "df[\"available_for\"].unique()"
   ]
  },
  {
   "cell_type": "code",
   "execution_count": null,
   "id": "79fa8871-9cbf-4c66-a3ec-44bb37c6e5e2",
   "metadata": {},
   "outputs": [],
   "source": [
    "def clean(x):\n",
    "    if 'Family ' in x:\n",
    "        return 'Family'\n",
    "    if 'Bachelors' in x:\n",
    "        return 'Bachelors'\n",
    "    return x\n",
    "\n",
    "df['available_for'] = df['available_for'].apply(clean)"
   ]
  },
  {
   "cell_type": "code",
   "execution_count": null,
   "id": "65b3d5ef-95c6-4de6-9bd3-52e29426e455",
   "metadata": {},
   "outputs": [],
   "source": [
    "df[\"available_for\"].unique()"
   ]
  },
  {
   "cell_type": "code",
   "execution_count": null,
   "id": "b178dfde-ea1d-49d2-bdd3-a1837f1a1879",
   "metadata": {},
   "outputs": [],
   "source": [
    "df[\"bedrooms\"].unique()"
   ]
  },
  {
   "cell_type": "code",
   "execution_count": null,
   "id": "ed5c8f83-158d-4f04-9d60-dcc4dee21366",
   "metadata": {},
   "outputs": [],
   "source": [
    "df = df[df[\"bedrooms\"] <= 9]"
   ]
  },
  {
   "cell_type": "code",
   "execution_count": null,
   "id": "a98df334-e322-4996-9329-dd4676622377",
   "metadata": {},
   "outputs": [],
   "source": [
    "df[\"bedrooms\"].unique()"
   ]
  },
  {
   "cell_type": "code",
   "execution_count": null,
   "id": "dd0bb049-0fa3-4ee5-9655-2023fead4772",
   "metadata": {},
   "outputs": [],
   "source": [
    "df[\"bathrooms\"].unique()"
   ]
  },
  {
   "cell_type": "code",
   "execution_count": null,
   "id": "6922586f-ee9b-409c-9bce-8bbec9e2ead2",
   "metadata": {},
   "outputs": [],
   "source": [
    "df"
   ]
  },
  {
   "cell_type": "code",
   "execution_count": 3,
   "id": "567cd052-c252-470e-a132-3e8c6526a936",
   "metadata": {},
   "outputs": [
    {
     "ename": "NameError",
     "evalue": "name 'df' is not defined",
     "output_type": "error",
     "traceback": [
      "\u001b[31m---------------------------------------------------------------------------\u001b[39m",
      "\u001b[31mNameError\u001b[39m                                 Traceback (most recent call last)",
      "\u001b[36mCell\u001b[39m\u001b[36m \u001b[39m\u001b[32mIn[3]\u001b[39m\u001b[32m, line 1\u001b[39m\n\u001b[32m----> \u001b[39m\u001b[32m1\u001b[39m df[\u001b[33m'\u001b[39m\u001b[33mprice_per_sqft\u001b[39m\u001b[33m'\u001b[39m] = \u001b[43mdf\u001b[49m[\u001b[33m'\u001b[39m\u001b[33mrent\u001b[39m\u001b[33m'\u001b[39m]/df[\u001b[33m'\u001b[39m\u001b[33marea\u001b[39m\u001b[33m'\u001b[39m]\n",
      "\u001b[31mNameError\u001b[39m: name 'df' is not defined"
     ]
    }
   ],
   "source": [
    "df['price_per_sqft'] = df['rent']/df['area']"
   ]
  },
  {
   "cell_type": "code",
   "execution_count": null,
   "id": "134d9580-8cc9-43bd-8b80-3eb8b0d63d9e",
   "metadata": {},
   "outputs": [],
   "source": [
    "df"
   ]
  },
  {
   "cell_type": "code",
   "execution_count": null,
   "id": "d5402c31-17a1-4fd2-bcd9-11a6eb184c90",
   "metadata": {},
   "outputs": [],
   "source": [
    "df.shape"
   ]
  },
  {
   "cell_type": "code",
   "execution_count": null,
   "id": "8e13d33b-2c7b-40d1-a7bc-55b33fe7ac84",
   "metadata": {},
   "outputs": [],
   "source": [
    "df = df[~(df.area/df.bedrooms<300)]"
   ]
  },
  {
   "cell_type": "code",
   "execution_count": null,
   "id": "391e834c-161f-4f6d-b741-cb492cde911d",
   "metadata": {},
   "outputs": [],
   "source": [
    "df.shape"
   ]
  },
  {
   "cell_type": "code",
   "execution_count": null,
   "id": "1595188d-4d83-41b2-9929-92a27b7dd291",
   "metadata": {},
   "outputs": [],
   "source": [
    "df.price_per_sqft.describe()"
   ]
  },
  {
   "cell_type": "code",
   "execution_count": null,
   "id": "9b3d307d-4c40-43ba-860e-2fad3ce85e11",
   "metadata": {},
   "outputs": [],
   "source": [
    "df = df[~(df.price_per_sqft<10)]\n",
    "df = df[~(df.price_per_sqft>70)]\n",
    "df.price_per_sqft.describe()"
   ]
  },
  {
   "cell_type": "code",
   "execution_count": null,
   "id": "920b9e97-03eb-4187-96ee-ccd6b2b6d7fc",
   "metadata": {},
   "outputs": [],
   "source": [
    "df"
   ]
  },
  {
   "cell_type": "code",
   "execution_count": null,
   "id": "c3d6094f-f942-46fc-bcab-ff575f3d1b4a",
   "metadata": {},
   "outputs": [],
   "source": [
    "from sklearn.preprocessing import LabelEncoder\n",
    "le_furnishing = LabelEncoder()\n",
    "df['furnishing'] = le_furnishing.fit_transform(df['furnishing'])\n",
    "df[\"furnishing\"].unique()"
   ]
  },
  {
   "cell_type": "code",
   "execution_count": null,
   "id": "a57bf009-2f22-48e5-96e4-280c6f0859bf",
   "metadata": {},
   "outputs": [],
   "source": [
    "df"
   ]
  },
  {
   "cell_type": "code",
   "execution_count": null,
   "id": "8c9dec59-8ee6-49ce-bfc5-8e274275e1fd",
   "metadata": {},
   "outputs": [],
   "source": [
    "from sklearn.preprocessing import LabelEncoder\n",
    "le_available_for = LabelEncoder()\n",
    "df['available_for'] = le_available_for.fit_transform(df['available_for'])\n",
    "df[\"available_for\"].unique()"
   ]
  },
  {
   "cell_type": "code",
   "execution_count": null,
   "id": "c74e6d96-e4e7-4b1a-a992-bf38bdbbc046",
   "metadata": {},
   "outputs": [],
   "source": [
    "df = df.drop('price_per_sqft',axis='columns')"
   ]
  },
  {
   "cell_type": "code",
   "execution_count": null,
   "id": "ff72f745-cadb-4c49-a68a-652853e5df1b",
   "metadata": {},
   "outputs": [],
   "source": [
    "df"
   ]
  },
  {
   "cell_type": "code",
   "execution_count": null,
   "id": "6f7a0432-ca08-482a-9654-eb7854957362",
   "metadata": {},
   "outputs": [],
   "source": [
    "x = df.drop('rent', axis=1)\n",
    "x.head()"
   ]
  },
  {
   "cell_type": "code",
   "execution_count": 4,
   "id": "d63dda1e-19e8-4a25-8876-9e390c29a15f",
   "metadata": {},
   "outputs": [
    {
     "ename": "NameError",
     "evalue": "name 'df' is not defined",
     "output_type": "error",
     "traceback": [
      "\u001b[31m---------------------------------------------------------------------------\u001b[39m",
      "\u001b[31mNameError\u001b[39m                                 Traceback (most recent call last)",
      "\u001b[36mCell\u001b[39m\u001b[36m \u001b[39m\u001b[32mIn[4]\u001b[39m\u001b[32m, line 1\u001b[39m\n\u001b[32m----> \u001b[39m\u001b[32m1\u001b[39m y = \u001b[43mdf\u001b[49m.rent\n\u001b[32m      2\u001b[39m y.head()\n",
      "\u001b[31mNameError\u001b[39m: name 'df' is not defined"
     ]
    }
   ],
   "source": [
    "y = df.rent\n",
    "y.head()"
   ]
  },
  {
   "cell_type": "code",
   "execution_count": null,
   "id": "685f7c36-745c-4054-b703-bb00a8c21ca6",
   "metadata": {},
   "outputs": [],
   "source": [
    "from sklearn.model_selection import train_test_split\n",
    "xtrain,xtest,ytrain,ytest = train_test_split(x,y,test_size=.2)"
   ]
  },
  {
   "cell_type": "code",
   "execution_count": null,
   "id": "1cf1b005-8dbd-4d54-aa41-39a9ae50a248",
   "metadata": {},
   "outputs": [],
   "source": [
    "from sklearn.linear_model import LinearRegression\n",
    "lr = LinearRegression()\n",
    "lr.fit(xtrain,ytrain)\n",
    "lr.score(xtest,ytest)"
   ]
  },
  {
   "cell_type": "code",
   "execution_count": null,
   "id": "dd562657-47de-49c0-b0b4-0328f0be507f",
   "metadata": {},
   "outputs": [],
   "source": [
    "from sklearn.model_selection import ShuffleSplit\n",
    "from sklearn.model_selection import cross_val_score\n",
    "\n",
    "cv = ShuffleSplit(n_splits=5, test_size=.2, random_state=0)\n",
    "\n",
    "cross_val_score(LinearRegression(),x,y,cv=cv)"
   ]
  },
  {
   "cell_type": "code",
   "execution_count": null,
   "id": "f694d56a-47b2-40d9-9fa9-1836c8e71e93",
   "metadata": {},
   "outputs": [],
   "source": [
    "from sklearn.tree import DecisionTreeRegressor\n",
    "dt = DecisionTreeRegressor()\n",
    "dt.fit(xtrain,ytrain)\n",
    "dt.score(xtest,ytest)\n"
   ]
  },
  {
   "cell_type": "code",
   "execution_count": null,
   "id": "25fb72a0-9e70-4fe2-8bc3-638fbfc41769",
   "metadata": {},
   "outputs": [],
   "source": [
    "from sklearn.model_selection import ShuffleSplit\n",
    "from sklearn.model_selection import cross_val_score\n",
    "\n",
    "cv = ShuffleSplit(n_splits=5, test_size=.2, random_state=0)\n",
    "\n",
    "cross_val_score(DecisionTreeRegressor(),x,y,cv=cv)"
   ]
  },
  {
   "cell_type": "code",
   "execution_count": null,
   "id": "1f56f4e8-1b40-470e-8a44-7b50e622c77c",
   "metadata": {},
   "outputs": [],
   "source": [
    "from sklearn.ensemble import RandomForestRegressor\n",
    "rf = RandomForestRegressor()\n",
    "rf.fit(xtrain,ytrain)\n",
    "rf.score(xtest,ytest)"
   ]
  },
  {
   "cell_type": "code",
   "execution_count": null,
   "id": "2734c3e3-a648-418a-a295-fb7ef8e69f16",
   "metadata": {},
   "outputs": [],
   "source": [
    "from sklearn.model_selection import ShuffleSplit\n",
    "from sklearn.model_selection import cross_val_score\n",
    "\n",
    "cv = ShuffleSplit(n_splits=5, test_size=.2, random_state=0)\n",
    "\n",
    "cross_val_score(RandomForestRegressor(),x,y,cv=cv)"
   ]
  },
  {
   "cell_type": "code",
   "execution_count": null,
   "id": "0ca920bf-3534-4613-a14a-b8aae288d05f",
   "metadata": {},
   "outputs": [],
   "source": [
    "x.columns"
   ]
  },
  {
   "cell_type": "code",
   "execution_count": null,
   "id": "abe72ace-53ce-4c34-aed9-e9bd798c6633",
   "metadata": {},
   "outputs": [],
   "source": [
    "rf.predict([[2,2,1000,2,0]])"
   ]
  },
  {
   "cell_type": "code",
   "execution_count": null,
   "id": "177393e1-0d0d-4816-bfe1-a3418655593c",
   "metadata": {},
   "outputs": [],
   "source": [
    "import pickle\n",
    "data = {\"model\": rf, \"le_furnishing\": le_furnishing, \"le_available_for\": le_available_for}\n",
    "with open('Model.pkl', 'wb') as file:\n",
    "    pickle.dump(data, file)"
   ]
  },
  {
   "cell_type": "code",
   "execution_count": null,
   "id": "9f43bd74-0b97-4027-8cd6-ab26e195f3ee",
   "metadata": {},
   "outputs": [],
   "source": [
    "with open('Model.pkl', 'rb') as file:\n",
    "    data = pickle.load(file)\n",
    "\n",
    "forest_loaded = data[\"model\"]\n",
    "le_furnishing = data[\"le_furnishing\"]\n",
    "le_available_for = data[\"le_available_for\"]"
   ]
  },
  {
   "cell_type": "code",
   "execution_count": null,
   "id": "277268aa-f539-4e2d-9bd7-e38c8644b822",
   "metadata": {},
   "outputs": [],
   "source": []
  },
  {
   "cell_type": "code",
   "execution_count": null,
   "id": "de2ddc1c-ac58-4462-a5b0-5d71ec8de63d",
   "metadata": {},
   "outputs": [],
   "source": []
  }
 ],
 "metadata": {
  "kernelspec": {
   "display_name": "Python 3 (ipykernel)",
   "language": "python",
   "name": "python3"
  },
  "language_info": {
   "codemirror_mode": {
    "name": "ipython",
    "version": 3
   },
   "file_extension": ".py",
   "mimetype": "text/x-python",
   "name": "python",
   "nbconvert_exporter": "python",
   "pygments_lexer": "ipython3",
   "version": "3.13.7"
  }
 },
 "nbformat": 4,
 "nbformat_minor": 5
}
